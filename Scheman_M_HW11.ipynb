{
 "cells": [
  {
   "cell_type": "markdown",
   "metadata": {},
   "source": [
    "# PyObject:  Object-oriented programming HW 11"
   ]
  },
  {
   "cell_type": "markdown",
   "metadata": {},
   "source": [
    "## Exercise 1  (from Monday's class)"
   ]
  },
  {
   "cell_type": "markdown",
   "metadata": {},
   "source": [
    "1. Write a ``Particle`` class that can be used to represent a particle with a mass, a 3-d position, and a 3-d velocity.\n",
    "\n",
    "2. Write a method that can be used to compute the kinetic energy of the particle\n",
    "\n",
    "3. Write a method that takes another particle as an argument and finds the distance between the two particles\n",
    "\n",
    "4. Write a method that given a time interval ``dt`` will update the position of the particle to the new position based on the current position and velocity.\n",
    "\n",
    "5. Write a ``ChargedParticle`` class that inherits from the ``Particle`` class, but also has an attribute for the charge of the particle.\n"
   ]
  },
  {
   "cell_type": "code",
   "execution_count": 7,
   "metadata": {},
   "outputs": [],
   "source": [
    "import numpy as np\n",
    "\n",
    "class Particle:\n",
    "    def __init__(self, mass, x, y, z, vx=0, vy=0, vz=0):\n",
    "        self.mass = mass\n",
    "        self.position = np.array([x, y, z])\n",
    "        self.velocity = np.array([vx, vy, vz])\n",
    "\n",
    "    def kinetic_energy(self):\n",
    "        return 0.5 * self.mass * np.sum(self.velocity**2)\n",
    "\n",
    "    def distance_to(self, other):\n",
    "        return np.linalg.norm(other.position - self.position)\n",
    "\n",
    "    def update_position(self, dt):\n",
    "        self.position += self.velocity * dt\n",
    "\n",
    "\n",
    "class ChargedParticle(Particle):\n",
    "\n",
    "    def __init__(self, mass, x, y, z, vx, vy, vz, charge):\n",
    "        self.mass = mass\n",
    "        self.x = x\n",
    "        self.y = y\n",
    "        self.z = z\n",
    "        self.vx = vx\n",
    "        self.vy = vy\n",
    "        self.vz = vz\n",
    "        self.charge = charge\n"
   ]
  },
  {
   "cell_type": "code",
   "execution_count": 8,
   "metadata": {},
   "outputs": [],
   "source": [
    "# write/copy code here"
   ]
  },
  {
   "cell_type": "markdown",
   "metadata": {},
   "source": [
    "## Exercise 2  (New)"
   ]
  },
  {
   "cell_type": "markdown",
   "metadata": {},
   "source": [
    "6. Write a method that can be used to see if a particle is in the same place (e.g., find_seperation < 0.25).  If there are two ChargedParticles in the same place make a \"simple\" (*not correct physics*) \"interaction\". (__have the code print \"interaction\"__).   \n",
    "\n",
    "    a. If the charges are opposite, make them \"combine\", set both velocities to zero and set their charge to zero, and print \"merge\".\n",
    "\n",
    "    b. Else, make the particles \"repel\", to do:\n",
    "    \n",
    "        multiply each \"self\" velocity and  by (-1 * (self.charge+other.charge) * (self.mass/other.mass))  \n",
    "    \n",
    "        multiply each \"other\" velocity by (-1 * (self.charge+other.charge) * (other.mass/self.mass)) \n",
    "    \n",
    "    e.g., reversing it's velocity, and print \"repel\". __(Again this is bad physics, but we are focusing on coding so play along.)__\n",
    "\n",
    "\n",
    "7. To test the above, write a code with two particles starting:\n",
    "\n",
    "        P1 at (x,y,z) = (-5,-5,-5) with (vx,vy,vz) = (1,1,1) and (charge = 0.5) \n",
    "\n",
    "        P2 at (x,y,z) = (5,5,5) with (vx,vy,vz) = (-1,-1,-1) and (charge = -0.5).  \n",
    "\n",
    "    Use your dt time interval to move the particles in 0.05 time steps for 300 steps, and print the current poition and velocity of each particle at each time step.  \n",
    "    \n",
    "\n",
    "8. To test the above, write a code with two particles starting: \n",
    "\n",
    "        P1 at (x,y,z) = (-5,-5,-5) with (vx,vy,vz) = (2,2,2) and (charge = 0.5) \n",
    "\n",
    "        P2 at (x,y,z) = (5,5,5) with (vx,vy,vz) = (-1,-1,-1) and (charge = 2.0).  \n",
    "\n",
    "    Use your dt time interval to move the particles in 0.05 time steps for 300 steps, and print the current poition and velocity of each particle at each time step.  \n"
   ]
  },
  {
   "cell_type": "code",
   "execution_count": 6,
   "metadata": {},
   "outputs": [
    {
     "ename": "AttributeError",
     "evalue": "'ChargedParticle' object has no attribute 'interact'",
     "output_type": "error",
     "traceback": [
      "\u001b[0;31m---------------------------------------------------------------------------\u001b[0m",
      "\u001b[0;31mAttributeError\u001b[0m                            Traceback (most recent call last)",
      "Cell \u001b[0;32mIn[6], line 54\u001b[0m\n\u001b[1;32m     51\u001b[0m         \u001b[38;5;28mprint\u001b[39m()\n\u001b[1;32m     53\u001b[0m \u001b[38;5;28;01mif\u001b[39;00m \u001b[38;5;18m__name__\u001b[39m \u001b[38;5;241m==\u001b[39m \u001b[38;5;124m\"\u001b[39m\u001b[38;5;124m__main__\u001b[39m\u001b[38;5;124m\"\u001b[39m:\n\u001b[0;32m---> 54\u001b[0m     main()\n\u001b[1;32m     56\u001b[0m \u001b[38;5;28;01mimport\u001b[39;00m \u001b[38;5;21;01mnumpy\u001b[39;00m \u001b[38;5;28;01mas\u001b[39;00m \u001b[38;5;21;01mnp\u001b[39;00m\n\u001b[1;32m     58\u001b[0m \u001b[38;5;28;01mdef\u001b[39;00m \u001b[38;5;21mmain\u001b[39m():\n",
      "Cell \u001b[0;32mIn[6], line 42\u001b[0m, in \u001b[0;36mmain\u001b[0;34m()\u001b[0m\n\u001b[1;32m     39\u001b[0m p2 \u001b[38;5;241m=\u001b[39m ChargedParticle(mass\u001b[38;5;241m=\u001b[39m\u001b[38;5;241m1\u001b[39m, x\u001b[38;5;241m=\u001b[39m\u001b[38;5;241m5\u001b[39m, y\u001b[38;5;241m=\u001b[39m\u001b[38;5;241m5\u001b[39m, z\u001b[38;5;241m=\u001b[39m\u001b[38;5;241m5\u001b[39m, vx\u001b[38;5;241m=\u001b[39m\u001b[38;5;241m-\u001b[39m\u001b[38;5;241m1\u001b[39m, vy\u001b[38;5;241m=\u001b[39m\u001b[38;5;241m-\u001b[39m\u001b[38;5;241m1\u001b[39m, vz\u001b[38;5;241m=\u001b[39m\u001b[38;5;241m-\u001b[39m\u001b[38;5;241m1\u001b[39m, charge\u001b[38;5;241m=\u001b[39m\u001b[38;5;241m-\u001b[39m\u001b[38;5;241m0.5\u001b[39m)\n\u001b[1;32m     41\u001b[0m \u001b[38;5;28;01mfor\u001b[39;00m step \u001b[38;5;129;01min\u001b[39;00m \u001b[38;5;28mrange\u001b[39m(total_steps):\n\u001b[0;32m---> 42\u001b[0m     p1\u001b[38;5;241m.\u001b[39minteract(p2, find_separation\u001b[38;5;241m=\u001b[39m\u001b[38;5;241m0.25\u001b[39m)\n\u001b[1;32m     43\u001b[0m     p2\u001b[38;5;241m.\u001b[39minteract(p1, find_separation\u001b[38;5;241m=\u001b[39m\u001b[38;5;241m0.25\u001b[39m)\n\u001b[1;32m     45\u001b[0m     p1\u001b[38;5;241m.\u001b[39mupdate_position(dt)\n",
      "\u001b[0;31mAttributeError\u001b[0m: 'ChargedParticle' object has no attribute 'interact'"
     ]
    }
   ],
   "source": [
    "class Particle:\n",
    "    def __init__(self, mass, x, y, z, vx=0, vy=0, vz=0):\n",
    "        self.mass = mass\n",
    "        self.position = np.array([x, y, z])\n",
    "        self.velocity = np.array([vx, vy, vz])\n",
    "\n",
    "    def kinetic_energy(self):\n",
    "        return 0.5 * self.mass * np.sum(self.velocity**2)\n",
    "\n",
    "    def distance_to(self, other):\n",
    "        return np.linalg.norm(other.position - self.position)\n",
    "\n",
    "    def update_position(self, dt):\n",
    "        self.position += self.velocity * dt\n",
    "    def interact(self, other, find_separation):\n",
    "        separation = self.distance_to(other)\n",
    "        \n",
    "        if separation < find_separation:\n",
    "            if self.charge * other.charge > 0:  # Opposite charges\n",
    "                self.charge = 0\n",
    "                other.charge = 0\n",
    "                print(\"Merge\")\n",
    "            else:  # Same charges\n",
    "                self.update_velocity(other)\n",
    "                other.update_velocity(self)\n",
    "                print(\"Repel\")\n",
    "\n",
    "    def update_velocity(self, other):\n",
    "        factor = -1 * (self.charge + other.charge) * (self.mass / other.mass)\n",
    "        self.velocity *= factor\n",
    "        other.velocity *= factor\n",
    "\n",
    "\n",
    "def main():\n",
    "    dt = 0.05\n",
    "    total_steps = 300\n",
    "    \n",
    "    p1 = ChargedParticle(mass=1, x=-5, y=-5, z=-5, vx=1, vy=1, vz=1, charge=0.5)\n",
    "    p2 = ChargedParticle(mass=1, x=5, y=5, z=5, vx=-1, vy=-1, vz=-1, charge=-0.5)\n",
    "    \n",
    "    for step in range(total_steps):\n",
    "        p1.interact(p2, find_separation=0.25)\n",
    "        p2.interact(p1, find_separation=0.25)\n",
    "        \n",
    "        p1.update_position(dt)\n",
    "        p2.update_position(dt)\n",
    "        \n",
    "        print(f\"Step {step}:\")\n",
    "        print(f\"P1: Position={p1.position}, Velocity={p1.velocity}\")\n",
    "        print(f\"P2: Position={p2.position}, Velocity={p2.velocity}\")\n",
    "        print()\n",
    "\n",
    "if __name__ == \"__main__\":\n",
    "    main()\n",
    "\n",
    "    \n",
    "    p1 = ChargedParticle(mass=1, x=-5, y=-5, z=-5, vx=2, vy=2, vz=2, charge=0.5)\n",
    "    p2 = ChargedParticle(mass=1, x=5, y=5, z=5, vx=-1, vy=-1, vz=-1, charge=2.0)\n",
    "    \n",
    "    for step in range(total_steps):\n",
    "        p1.interact(p2, find_separation=0.25)\n",
    "        p2.interact(p1, find_separation=0.25)\n",
    "        \n",
    "        p1.update_position(dt)\n",
    "        p2.update_position(dt)\n",
    "        \n",
    "        print(f\"Step {step}:\")\n",
    "        print(f\"P1: Position={p1.position}, Velocity={p1.velocity}\")\n",
    "        print(f\"P2: Position={p2.position}, Velocity={p2.velocity}\")\n",
    "        print()\n",
    "\n",
    "if __name__ == \"__main__\":\n",
    "    main()\n"
   ]
  },
  {
   "cell_type": "code",
   "execution_count": null,
   "metadata": {},
   "outputs": [],
   "source": []
  },
  {
   "cell_type": "code",
   "execution_count": null,
   "metadata": {},
   "outputs": [],
   "source": []
  }
 ],
 "metadata": {
  "kernelspec": {
   "display_name": "Python 3 (ipykernel)",
   "language": "python",
   "name": "python3"
  },
  "language_info": {
   "codemirror_mode": {
    "name": "ipython",
    "version": 3
   },
   "file_extension": ".py",
   "mimetype": "text/x-python",
   "name": "python",
   "nbconvert_exporter": "python",
   "pygments_lexer": "ipython3",
   "version": "3.12.4"
  }
 },
 "nbformat": 4,
 "nbformat_minor": 4
}
